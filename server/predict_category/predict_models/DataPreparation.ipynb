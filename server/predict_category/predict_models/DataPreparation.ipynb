{
 "metadata": {
  "language_info": {
   "codemirror_mode": {
    "name": "ipython",
    "version": 3
   },
   "file_extension": ".py",
   "mimetype": "text/x-python",
   "name": "python",
   "nbconvert_exporter": "python",
   "pygments_lexer": "ipython3",
   "version": "3.8.5-final"
  },
  "orig_nbformat": 2,
  "kernelspec": {
   "name": "python38564bita2e8b2e709054402b032d737830098bf",
   "display_name": "Python 3.8.5 64-bit",
   "language": "python"
  }
 },
 "nbformat": 4,
 "nbformat_minor": 2,
 "cells": [
  {
   "source": [
    "# Import Things"
   ],
   "cell_type": "markdown",
   "metadata": {}
  },
  {
   "cell_type": "code",
   "execution_count": 28,
   "metadata": {},
   "outputs": [],
   "source": [
    "import numpy as np\n",
    "from random import randint\n",
    "import os\n",
    "import json\n",
    "import settings\n",
    "import pickle\n",
    "import nltk.data\n",
    "from pyvi import ViTokenizer"
   ]
  },
  {
   "source": [
    "## Read file"
   ],
   "cell_type": "markdown",
   "metadata": {}
  },
  {
   "cell_type": "code",
   "execution_count": 29,
   "metadata": {
    "tags": []
   },
   "outputs": [],
   "source": [
    "class FileReader(object):\n",
    "    def __init__(self, filePath, encoder = None):\n",
    "        self.filePath = filePath\n",
    "        self.encoder = encoder if encoder != None else 'utf-8'\n",
    "    \n",
    "    def read(self):\n",
    "        with open(self.filePath, 'r') as f:\n",
    "            s = f.read()\n",
    "        return s\n",
    "    \n",
    "    def content(self):\n",
    "        s = self.read()\n",
    "        return s.decode(self.encoder)\n",
    "    \n",
    "    def read_json(self):\n",
    "        s = ''\n",
    "        with open(self.filePath, 'r', encoding=self.encoder) as f:\n",
    "            s = json.load(f)\n",
    "        return s\n",
    "\n",
    "    def read_stopwords(self):\n",
    "        with open(self.filePath, 'r') as f:\n",
    "            stopwords = set([w.strip().replace(' ', '_') for w in f.readlines()])\n",
    "        return stopwords\n",
    "\n",
    "    def load_dictionary(self):\n",
    "        return corpora.Dictionary.load_from_text(self.filePath)\n",
    "\n"
   ]
  },
  {
   "source": [
    "## File Store"
   ],
   "cell_type": "markdown",
   "metadata": {}
  },
  {
   "cell_type": "code",
   "execution_count": 30,
   "metadata": {},
   "outputs": [],
   "source": [
    "class FileStore(object):\n",
    "    def __init__(self, filePath, data = None):\n",
    "        self.filePath = filePath\n",
    "        self.data = data\n",
    "\n",
    "    def store_json(self):\n",
    "        with open(self.filePath, 'w') as outfile:\n",
    "            json.dump(self.data, outfile)\n",
    "\n",
    "    def store_dictionary(self, dict_words):\n",
    "        dictionary = corpora.Dictionary(dict_words)\n",
    "        dictionary.filter_extremes(no_below=20, no_above=0.3)\n",
    "        dictionary.save_as_text(self.filePath)\n",
    "    \n",
    "    def save_pickle(self, obj):\n",
    "        outfile = open(self.filePath, 'wb')\n",
    "        fastPickler = pickle.Pickler(outfile, pickle.HIGHEST_PROTOCOL)\n",
    "        fastPickler.fast = 1\n",
    "        fastPickler.dump(obj)\n",
    "        outfile.close()"
   ]
  },
  {
   "source": [
    "## NLP\n"
   ],
   "cell_type": "markdown",
   "metadata": {}
  },
  {
   "cell_type": "code",
   "execution_count": 31,
   "metadata": {},
   "outputs": [],
   "source": [
    "from pyvi import ViTokenizer, ViPosTagger\n",
    "import numpy as np\n",
    "import string\n",
    "import re\n",
    "\n",
    "\n",
    "class NLP(object):\n",
    "    def __init__(self, text=None):\n",
    "        self.text = text\n",
    "        self.stopwords = FileReader(settings.STOP_WORDS).read_stopwords()\n",
    "        # print(str(len(self.stopwords)))\n",
    "        self.newWords = []\n",
    "        \n",
    "    def remove_tags(self, raw_html):\n",
    "        cleanr = re.compile('<.*?>')\n",
    "        cleantext = re.sub(cleanr, '', raw_html )\n",
    "        return cleantext\n",
    "\n",
    "    def remove_links(self, text):\n",
    "        text = re.sub(r'^https?:\\/\\/.*[\\r\\n]*', '', text, flags=re.MULTILINE)\n",
    "        return text\n",
    "\n",
    "    def remove_punctuation(self, text):\n",
    "        return text.translate(str.maketrans('', '', string.punctuation))\n",
    "        \n",
    "\n",
    "    def remove_stopwords(self, words, stopwords):\n",
    "        important_words = []\n",
    "        for index in range(len(words)):\n",
    "            if (words[index] not in stopwords ):\n",
    "                important_words.append(words[index])\n",
    "        self.tokens = important_words\n",
    "        return important_words\n",
    "    \n",
    "    def lower_sentences(self, text):\n",
    "         return text.lower()\n",
    "\n",
    "    def tokenize_sentences(self, text):\n",
    "        return ViTokenizer.tokenize(text)\n",
    "\n",
    "    def segment_word(self, tokens):\n",
    "        return ViPosTagger.postagging(tokens)\n",
    "    \n",
    "    def keep_verb_noun(self, postags):\n",
    "        res = []\n",
    "        for index in range(len(postags[0])):\n",
    "            if postags[1][index] == 'N' or postags[1][index] == 'V' or postags[1][index] == 'Np':\n",
    "                res.append(postags[0][index])\n",
    "        return res\n",
    "\n",
    "    def remove_digits(self, tokens):\n",
    "        new_words = []\n",
    "        for index in range(len(tokens)):\n",
    "            if not tokens[index].isdigit():\n",
    "                new_words.append(tokens[index])\n",
    "        return new_words\n",
    "    \n",
    "    def count_tokens(self, tokens):\n",
    "        unique, counts = np.unique(tokens, return_counts=True)\n",
    "        return dict(zip(unique, counts))\n",
    "    \n",
    "    def retrieve_tokens_times(self, tokens, n):\n",
    "        tokens = {k: v for k, v in self.count_tokens(tokens).items() if int(v) >= n}\n",
    "        return tokens \n",
    "        \n",
    "    def preprocessText(self, text):\n",
    "        processed_text = text\n",
    "        processed_text = self.remove_tags(processed_text)\n",
    "        processed_text = self.lower_sentences(processed_text)\n",
    "        processed_text = self.remove_links(processed_text)\n",
    "        processed_text = self.remove_punctuation(processed_text)\n",
    "        tokens = self.tokenize_sentences(processed_text)\n",
    "        tokens = self.segment_word(tokens)\n",
    "        # print(tokens)\n",
    "        tokens = self.keep_verb_noun(tokens)\n",
    "        important_tokens = self.remove_stopwords(tokens, self.stopwords)\n",
    "        important_tokens = self.remove_digits(important_tokens)\n",
    "        important_tokens = self.retrieve_tokens_times(important_tokens, 4)\n",
    "        self.tokens = important_tokens\n",
    "        return self.tokens\n",
    "\n",
    "    def __repr__(self):\n",
    "        return self.text"
   ]
  },
  {
   "source": [
    "## DATASET PREPARE"
   ],
   "cell_type": "markdown",
   "metadata": {}
  },
  {
   "cell_type": "code",
   "execution_count": 12,
   "metadata": {},
   "outputs": [
    {
     "output_type": "stream",
     "name": "stdout",
     "text": [
      "['https:', '', 'dantri.com.vn', 'giai-tri', 'bieu-tuong-goi-cam-emily-ratajkowski-sinh-con-dau-long-20210313082417860.htm']\n"
     ]
    }
   ],
   "source": [
    "url = \"https://dantri.com.vn/giai-tri/bieu-tuong-goi-cam-emily-ratajkowski-sinh-con-dau-long-20210313082417860.htm\"\n",
    "print(url.split('/'))"
   ]
  },
  {
   "cell_type": "code",
   "execution_count": 32,
   "metadata": {
    "tags": []
   },
   "outputs": [
    {
     "output_type": "stream",
     "name": "stdout",
     "text": [
      "duration: 354.5249581336975\n"
     ]
    }
   ],
   "source": [
    "import time\n",
    "start_time = time.time()\n",
    "json = FileReader(settings.DIR_PATH + '//'+  'data.json').read_json()\n",
    "data = list()\n",
    "categories = []\n",
    "cate = set()\n",
    "categories_data = []\n",
    "for article in json:\n",
    "    nlp = NLP(text=article['content'])\n",
    "    tokens = nlp.preprocessText(article['content'])\n",
    "    # key_in_article = []\n",
    "    # for key, value in tokens.items():\n",
    "        # key_in_article.append(key)\n",
    "    topic = article['url'].split('/')\n",
    "    categories_data.append(topic[3])\n",
    "    cate.add(topic[3])  \n",
    "    key_in_article = ' '.join(tokens) \n",
    "    data.append(key_in_article)\n",
    "print('duration: {}'.format(time.time() - start_time))\n",
    "categories = list(cate)\n",
    "        \n"
   ]
  },
  {
   "cell_type": "code",
   "execution_count": 33,
   "metadata": {},
   "outputs": [
    {
     "output_type": "stream",
     "name": "stdout",
     "text": [
      "['du-lich', 'tinh-yeu-gioi-tinh', 'suc-khoe', 'kinh-doanh', 'du-hoc', 'phap-luat', 'an-sinh', 'bat-dong-san', 'xa-hoi', 'ban-doc', 'the-thao', 'khoa-hoc-cong-nghe', 'van-hoa', 'lao-dong-viec-lam', 'nhip-song-tre', 'the-gioi', 'doi-song', 'blog', 'tam-long-nhan-ai', 'giai-tri', 'suc-manh-so', 'giao-duc-huong-nghiep', 'o-to-xe-may', 'tuyen-sinh', 'multimedia']\n25\n"
     ]
    }
   ],
   "source": [
    "print(categories)\n",
    "print(len(categories))"
   ]
  },
  {
   "cell_type": "code",
   "execution_count": 107,
   "metadata": {
    "tags": [
     "outputPrepend"
    ]
   },
   "outputs": [
    {
     "output_type": "stream",
     "name": "stdout",
     "text": [
      "ả hồng kháng_nghị kiểm_sát lọt minh mừng ngô phê_duyệt quản_lý sai_phạm sơ_thẩm thiết_kế thượng thẩm_định trung_tâm trách_nhiệm tỉnh tội_phạm ubnd viện văn xây_dựng đầu_tư đồng', 'băng_nhóm chuyên_án công_an cơ_quan cảnh_sát cẩm dũng hành_vi phòng quảng_ninh quốc trần tỉnh', 'bị_can chi_nhánh công_an cơ_quan cảnh_sát hành_vi khởi_tố nguyễn nhà_nước phan_thiết quyết_định sai_phạm thị tiền tp trách_nhiệm tỉnh văn_phòng xác_định điều_tra đăng_ký đất_đai', 'bắt campuchia cách_ly công_an loan lâm nam nhập_cảnh việt xã điều_tra', 'công_an huyện huệ minh thượng tý vé_số văn xã', 'csgt mân nam thanh_niên xe_máy đi đường đại_úy', 'an_ninh chính_phủ công cơ_quan hoạt_động khởi_tố lâm_thời nam ngô phú quốc_gia tham_gia trứ tỉnh tổ_chức việt xã_hội yên điều_tra', 'bình cao_su công_an dao phước sảnh tỉnh xã án đi điều_tra điểu đối_tượng', 'cường dương giam huyện phòng thái văn xã đỗ', 'bms bệnh_viện bị_can công_an công_ty cơ_quan cảnh_sát khởi_tố lệnh mai quyết_định thị tài_chính vfs điều_tra', 'bị_cáo chiếm_đoạt cơ_quan fosco hoàng hđxx khống lương lập minh nguyễn nguyệt phiên_tòa sơn tham_ô tiền trần vụ xét_xử án điều_tra đoàn đồng_phạm', 'công_an facebook lực_lượng thông_tin', 'buôn chủ công_ty dự_án giám_đốc ma mạo nghiệm_thu_thanh_toán thanh_toán thiết_bị thuột thịnh tiến tiền tp tỉnh tổng ubnd xây_dựng đầu_tư', 'báo chiếm_đoạt công_an dân_trí giúp_đỡ hoàn_cảnh hành_vi nông phúc tiền tài_sản tỉnh văn vũ điều_tra đắk ủng_hộ', 'chiếm_đoạt hà_tĩnh lừa_đảo nguyễn thanh_hóa thị tiền', 'công_an dân kiểng ma_túy mai thành thông thị_xã trộm đối_tượng', 'ching công_an cấp_cứu dao lực_lượng tr đi', 'chiếm_đoạt dự_án hà_nội kiên nguyễn tiền trung_kiên', 'chứng_chỉ con_dấu công_an thu_giữ đối_tượng', 'bị_cáo chủ công_ty cựu_chủ_tịch dự_án ethanol giá gói_thầu hđqt khai ký nhà_thầu phú pvc pvn thăng thọ tiền trịnh tòa tập_đoàn xuân đinh_la đầu_tư', 'bào_chữa bình bị_cáo chỉ_đạo chỉ_định chủ dự_án ethanol giao hành_vi luật_sư lợi_ích nhà_thầu năng_lực phú pvb pvc pvn quan_điểm thiệt_hại thăng thầu thọ tiêu_cực vks án đinh_la đại_diện đầu_tư', 'bạch bị_can bị_cáo ca_nhạc_nhẹ chiếm_đoạt chấp_thuận chỉ_đạo công_an công_ty cơ_quan diệp hoàng hoán_đổi hương kiến_nghị lan lê nguyễn nhà_nước nhà_đất quân sai_phạm sở_hữu thành_tài thắng thị tphcm trung_tâm trách_nhiệm tài_sản xác_định án điều_tra đào đầu', 'công_an hình_sự trinh_sát truy_đuổi đức', 'bắt công_an dao phương phường thị_xã thọ triều yên điều_tra đối_tượng đồng_minh', 'bào_chữa bị_cáo chỉ_đạo chủ chủ_trương cáo_buộc cáo_trạng cựu_chủ_tịch dự_án kết_luận la lợi_ích nhà_thầu năng_lực pvb pvc pvn thăng triển_khai vks đinh_la đầu đầu_tư đề_nghị đồng_ý đứng', 'chi_phí chính_phủ chủ công_thương công_trình công_ty căn_cứ dương dự_án epc giá hình_thức hợp_đồng ký kế_hoạch lê mcc ngân_hàng nhà_nước nhà_thầu năng_lực nội_dung phụ quang thiết_bị thủ_tướng thứ_trưởng tisco tiến_độ trọn_gói tổng vinaincon vns văn_bản xem_xét xây_dựng xây_lắp ý_kiến điều_chỉnh đầu_tư đề_nghị', 'bé công công_an hương hải_dương khởi_tố nguyễn phụ_nữ sinh sn thùy thị thị_xã trang trà trâm trú trọng xã đánh_ghen đối_tượng', 'chở công_an hải phát_hiện phòng tp xe ô_tô', 'bình bình_thuận công_an công_ty_tnhh cơ_quan cảnh_sát diamond khởi_tố tỉnh điều_tra địa_ốc', 'công_an lắk nam thủy truy_nã trốn tỉnh xe đắk định', 'chạy công_an dao huyện lệ nam sinh thoại_sơn tỉnh xe điều_tra đường', 'bùi công_an facebook huyện luyến thái thái_bình thông_tin thị thụy tài_khoản tỉnh đăng_tải', 'công_ty gia giám_đốc hàng hải_quan khai lô nhập_khẩu phong tạ đèn', 'chức_năng công_an lực_lượng mỹ phú thị_xã đối_tượng', 'hoa ma_túy mượn phùng quặng thị xe đi', 'chỉ_đạo covid19 dịch giải_quyết hải_dương phòng_chống quảng_ninh tand tòa_án tố_tụng tổ_chức vụ vụ_việc xét_xử án', 'chính_phủ chấp_hành công_an công_tác cộng_đồng mô_hình nghị_định ngành phạt quỹ tham_mưu tái_hòa_nhập tỉnh vay vốn xong xây_dựng án địa_phương', 'nguyễn trộm tài_sản văn đối_tượng', 'karaoke ma_túy quán sơn tổ_chức đối_tượng', 'chu công_ty cúc huệ hợp_đồng lệnh mua mua_bán nguyễn nhạn phú quốc sâm thị tiền tỉnh yến điều_tra đất', 'ghi lô sơn đánh_bạc đường_dây đối_tượng', 'công_an phạm_nhân quyết_định trại tỉnh án', 'huyện hành_vi hủy_hoại nông nằm quân_sự quốc_lộ rừng sn thông tiến tỉnh vụ xét_xử án đắk đối_tượng', 'chốt công_an hoàng lực_lượng nhiệm_vụ phát_hiện tiến trường_hợp tỉnh', 'công_an công_tác cư ma_túy nguyễn trinh tổ ô_tô', 'chiếm_đoạt công_an hà_tĩnh hại lừa_đảo thưởng trúng điện_thoại đối_tượng', 'bình công_an phước tỉnh vụ xác_định xã điều_tra', 'công_an cơ_quan dung hà_nội hương li long min quốc shao sn thị truy_nã tội việt_nam đặng đối_tượng', 'công_an huyện hùng nguyễn phú phúc thọ', 'công_an mỹ trang_trại tưởng đặng đối_tượng đức', 'bị_cáo huyện hành_vi hồ hồng lâm mẩn nguyễn ngự nhập_cảnh phiên_tòa tiền trú trường tù_giam tưa tỉnh tổ_chức tội văn xuân xuất_cảnh xét_xử đồng_phạm', 'bị_can chiếm_đoạt công_an công_ty cơ_quan cơ_sở cưỡng_đoạt cảnh_sát dịch_vụ hoạt_động hình_sự hỏa_táng khắc khởi_tố kết_luận lợi nguyễn nhuệ nin ninh phường quyết_định sn tang_lễ thái_bình thủ_đoạn truy_tố trú tài_sản tỉnh tổ tội vụ xuân án điều_tra đường đề_nghị địa_bàn đồng_bọn đức', 'bị_cáo chủ công_ty cựu_chủ_tịch dự_án ethanol giá gói_thầu hđqt khai ký nhà_thầu phú pvc pvn thăng thọ tiền trịnh tòa tập_đoàn xuân đinh_la đầu_tư', 'bào_chữa bình bị_cáo chỉ_đạo chỉ_định chủ dự_án ethanol giao hành_vi luật_sư lợi_ích nhà_thầu năng_lực phú pvb pvc pvn quan_điểm thiệt_hại thăng thầu thọ tiêu_cực vks án đinh_la đại_diện đầu_tư', 'bạch bị_can bị_cáo ca_nhạc_nhẹ chiếm_đoạt chấp_thuận chỉ_đạo công_an công_ty cơ_quan diệp hoàng hoán_đổi hương kiến_nghị lan lê nguyễn nhà_nước nhà_đất quân sai_phạm sở_hữu thành_tài thắng thị tphcm trung_tâm trách_nhiệm tài_sản xác_định án điều_tra đào đầu', 'công_an hình_sự trinh_sát truy_đuổi đức', 'bắt công_an dao phương phường thị_xã thọ triều yên điều_tra đối_tượng đồng_minh', 'bào_chữa bị_cáo chỉ_đạo chủ chủ_trương cáo_buộc cáo_trạng cựu_chủ_tịch dự_án kết_luận la lợi_ích nhà_thầu năng_lực pvb pvc pvn thăng triển_khai vks đinh_la đầu đầu_tư đề_nghị đồng_ý đứng', 'chi_phí chính_phủ chủ công_thương công_trình công_ty căn_cứ dương dự_án epc giá hình_thức hợp_đồng ký kế_hoạch lê mcc ngân_hàng nhà_nước nhà_thầu năng_lực nội_dung phụ quang thiết_bị thủ_tướng thứ_trưởng tisco tiến_độ trọn_gói tổng vinaincon vns văn_bản xem_xét xây_dựng xây_lắp ý_kiến điều_chỉnh đầu_tư đề_nghị', 'bé công công_an hương hải_dương khởi_tố nguyễn phụ_nữ sinh sn thùy thị thị_xã trang trà trâm trú trọng xã đánh_ghen đối_tượng', 'báo công_an cướp nợ tiền', 'bị_cáo cai huyện lào ma_túy mường_khương tỉnh xã', 'công_an', 'bị_thương chống công_trình cơ_quan giam khởi_tố kiểm_định làm_việc nam nghệ_an nguyễn phanh rơi thăng tử_vong vận vụ điều_tra đối_tượng', 'công_an thanh_khê thành xe', 'bắt bị_cáo cha_mẹ chồng gia_đình khóc ma_túy mua_bán người_thân phòng trẻ tuyến tuấn tòa tù vợ_chồng xử án đi đầu đứng', 'an_ninh covid19 cách_ly công_an công_dân công_tác cư_trú dịch khánh nam nhập_cảnh nước_ngoài phát_hiện phối_hợp thanh_hóa thiệu thành_phố trường_hợp tình_hình tỉnh việt vnq xã đi địa_bàn địa_phương đối_tượng', 'bình công_an huyện phước tỉnh điều_tra', 'bản_án bồi_thường công_tác cơ_quan giải_quyết hoàn_trả nhà_nước nội_dung quy_định quản_lý trung_ương trách_nhiệm tư_pháp vụ_việc xem_xét địa_phương', 'công_an hdbank hà_tĩnh khoản ngân_hàng seabank thắng thủ_tục tiền tài_sản vay', 'clip csgt cư dao huyện mgar suê tổ xe xã đàn_ông đối_tượng', 'chiếm_đoạt hiên ngân_hàng nhân_viên sơn thẻ thị tiền trần tây tín_dụng', 'an_giang an_ninh công_an cơ_quan khởi_tố mua nguyễn sinh sơn tiền tiệm trú tạp_hóa tỉnh điều_tra đém', 'bình công_an hải phước sơn trộm tỉnh xe yến đi điều_tra', 'anson bị_can chiếm_đoạt công_ty cơ_quan dự_án ggv hoạt huy_động lợi_nhuận nam nộp quốc tiền tập_đoàn việt văn vốn yang đầu_tư', 'chiến cháu công_an huyện thống_nhất tỉnh đi', 'bách_hóa bảo bị_cáo cướp cửa_hàng hđxx lê phú phạm_tội súng tphcm tài_sản tù việt văn đi', 'biên_bản chiến_tranh cà_phê công_an công_cụ cơ_quan gửi hà_giang hành_chính hành_vi hđxx khoản kiểm_tra kỷ_vật luật lập nổ pháp_luật phế_liệu phế_phẩm quy_định quyền quán quản_lý thu_giữ tiến_hành toàn_bộ tp trưng_bày tỉnh việt vũ_khí vật_liệu đồ_vật', 'bình cshs công_an gia huyện hải két ninh phá phòng phú sn sắt tiền_án trú trộm trộm_cắp tài_sản tô tỉnh viễn xuân xã địa_bàn đối_tượng', 'bình hàng hàng_hóa hành_chính lô ninh số_lượng thị_trường tiêu_hủy vi_phạm', 'chiếm_đoạt công_an gửi huyện hại mã ngân_hàng nhập tiền tài_khoản xuân đường đối_tượng', 'huyện lê thu thị tiền vay', 'bị_cáo chém dao hành_vi mẹ nguyễn tú xuân', 'clip csgt đối_tượng', 'bảo chiếm_đoạt công_an hà_nội mua_bán phương tiền tài_khoản điều_tra đối_tượng', 'bị_cáo chủ công_ty cựu_chủ_tịch dự_án ethanol giá gói_thầu hđqt khai ký nhà_thầu phú pvc pvn thăng thọ tiền trịnh tòa tập_đoàn xuân đinh_la đầu_tư', 'bào_chữa bình bị_cáo chỉ_đạo chỉ_định chủ dự_án ethanol giao hành_vi luật_sư lợi_ích nhà_thầu năng_lực phú pvb pvc pvn quan_điểm thiệt_hại thăng thầu thọ tiêu_cực vks án đinh_la đại_diện đầu_tư', 'bạch bị_can bị_cáo ca_nhạc_nhẹ chiếm_đoạt chấp_thuận chỉ_đạo công_an công_ty cơ_quan diệp hoàng hoán_đổi hương kiến_nghị lan lê nguyễn nhà_nước nhà_đất quân sai_phạm sở_hữu thành_tài thắng thị tphcm trung_tâm trách_nhiệm tài_sản xác_định án điều_tra đào đầu', 'công_an hình_sự trinh_sát truy_đuổi đức', 'bắt công_an dao phương phường thị_xã thọ triều yên điều_tra đối_tượng đồng_minh', 'bào_chữa bị_cáo chỉ_đạo chủ chủ_trương cáo_buộc cáo_trạng cựu_chủ_tịch dự_án kết_luận la lợi_ích nhà_thầu năng_lực pvb pvc pvn thăng triển_khai vks đinh_la đầu đầu_tư đề_nghị đồng_ý đứng', 'chi_phí chính_phủ chủ công_thương công_trình công_ty căn_cứ dương dự_án epc giá hình_thức hợp_đồng ký kế_hoạch lê mcc ngân_hàng nhà_nước nhà_thầu năng_lực nội_dung phụ quang thiết_bị thủ_tướng thứ_trưởng tisco tiến_độ trọn_gói tổng vinaincon vns văn_bản xem_xét xây_dựng xây_lắp ý_kiến điều_chỉnh đầu_tư đề_nghị', 'bé công công_an hương hải_dương khởi_tố nguyễn phụ_nữ sinh sn thùy thị thị_xã trang trà trâm trú trọng xã đánh_ghen đối_tượng', 'bắc công_an cảnh_sát cầu huyền hình_sự khởi_tố linh mỹ nguyễn ngọc ninh phường thị tp trộm_cắp tỉnh vàng', 'bắt_giữ công_an cướp doãn hung_khí hà ngô sn tài_sản xe_máy đi đường đối_tượng', 'app cài_đặt công_an giả_mạo hà_nội nạn_nhân phần_mềm thông_tin tài_khoản điện_thoại đối_tượng', 'can chó công giáp huyện hành_vi khởi_tố lê lộc nguyễn nhi quốc trần trộm trộm_cắp tài_sản văn đình đối_tượng', 'bđbp bắt bắt_giữ huyện lực_lượng ma_túy quảng_bình tang_vật tỉnh vận_chuyển đối_tượng', 'dao hồ lợi thú văn', 'csgt dân hiếu thượng_úy trộm xe xe_máy xe_máy_điện đối_tượng', 'cầm_cố tiền tài_sản đối_tượng', 'biên dao gia_đình mắm_tôm tạt điều_tra đâm đối_tượng', 'biên_giới chức_năng công_an lệ lực_lượng mỹ thị tiền tỉnh vận_chuyển đối_tượng đỗ', 'chí công_an công_tác phát_hiện quảng_ninh tp truy_nã tỉnh tổ đối_tượng', 'bếp bị_cáo canh chuột chồng diệt giết gà hành_vi nồi thuốc tâm văn vợ vợ_chồng án đầu', 'bùi công_an cầu giấy khách_sạn mai nạn_nhân thái_bình văn đối_tượng', 'bắt_giữ công_an hình_sự hường hộp pháo pháo_hoa trần_sỹ đối_tượng', 'công_an huyện hưng tê_tê tỉnh đối_tượng', 'bảo_kê cây_cảnh công_an hộ kinh_doanh nghi tp vinh xã đối_tượng', 'an bình lâm trí tỉnh điều_tra', 'công_an hiệp huyện minh nguyễn súng tân tỉnh vĩ điều_tra', 'bắc công_an công_ty linh mỹ ninh thị trộm_cắp vàng', 'chỗ hà_nội hãng khách_sạn loan lương mua máy_bay phòng thanh_toán thị tiền vé điều_tra', 'công_an huyện lê ma_túy quán sn súng thạch thất vinh văn đối_tượng', 'bến bị_cáo công_ty hồng kháng_cáo kháng_nghị môi_trường nhập_khẩu phúc phúc_thẩm phế_liệu sơ_thẩm sản_xuất sở thiêm tiền tre tuấn tù tỉnh tỷ việt văn vụ án đồng', 'cá_thể huyện khỉ đàn_ông', 'bị_cáo campuchia chỉ_đạo giao hình_phạt hđxx khối_lượng ma_túy mua_bán oanh phường sinh thuê thị tphcm trần văn vũ án', 'công_an cần_sa huyện phát_hiện rlấp súng đắk', 'bị_cáo chủ công_ty cựu_chủ_tịch dự_án ethanol giá gói_thầu hđqt khai ký nhà_thầu phú pvc pvn thăng thọ tiền trịnh tòa tập_đoàn xuân đinh_la đầu_tư', 'bào_chữa bình bị_cáo chỉ_đạo chỉ_định chủ dự_án ethanol giao hành_vi luật_sư lợi_ích nhà_thầu năng_lực phú pvb pvc pvn quan_điểm thiệt_hại thăng thầu thọ tiêu_cực vks án đinh_la đại_diện đầu_tư', 'bạch bị_can bị_cáo ca_nhạc_nhẹ chiếm_đoạt chấp_thuận chỉ_đạo công_an công_ty cơ_quan diệp hoàng hoán_đổi hương kiến_nghị lan lê nguyễn nhà_nước nhà_đất quân sai_phạm sở_hữu thành_tài thắng thị tphcm trung_tâm trách_nhiệm tài_sản xác_định án điều_tra đào đầu', 'công_an hình_sự trinh_sát truy_đuổi đức', 'bắt công_an dao phương phường thị_xã thọ triều yên điều_tra đối_tượng đồng_minh', 'bào_chữa bị_cáo chỉ_đạo chủ chủ_trương cáo_buộc cáo_trạng cựu_chủ_tịch dự_án kết_luận la lợi_ích nhà_thầu năng_lực pvb pvc pvn thăng triển_khai vks đinh_la đầu đầu_tư đề_nghị đồng_ý đứng', 'chi_phí chính_phủ chủ công_thương công_trình công_ty căn_cứ dương dự_án epc giá hình_thức hợp_đồng ký kế_hoạch lê mcc ngân_hàng nhà_nước nhà_thầu năng_lực nội_dung phụ quang thiết_bị thủ_tướng thứ_trưởng tisco tiến_độ trọn_gói tổng vinaincon vns văn_bản xem_xét xây_dựng xây_lắp ý_kiến điều_chỉnh đầu_tư đề_nghị', 'bé công công_an hương hải_dương khởi_tố nguyễn phụ_nữ sinh sn thùy thị thị_xã trang trà trâm trú trọng xã đánh_ghen đối_tượng', 'ma_túy ngọc', 'bị_cáo chiếm_đoạt nguyễn nhàn quảng_trị thị tiền trần tỉnh tỷ vay đồng', 'hiện_trường khám_nghiệm tử_vong', 'bị_cáo cai chiếm_đoạt chiến hàng hại khẩu_trang lào lừa_đảo mã phường quang sinh thành_phố tiền trú tỉnh tổ y_tế', 'băng băng_nhóm chặn công_an cản dàn_cảnh dân móc_túi ngụ nạn_nhân phụ_nữ quần quẹt sinh tiền tphcm tài_sản túi tội_phạm va vinh xe án đi đầu địa đối_tượng', 'chiềng công_an giết la muông nạn_nhân quàng sơn thành_phố thương tỉnh văn xác_định đối_tượng', 'châu công_an danh giời huyện hà khanh pháo pháo_hoa phát_hiện tân tú vận_chuyển', 'tài_xế', 'công_an huyện hữu lê sơn tiền tỉnh đánh_bạc đường_dây đối_tượng', 'ngân_hàng phương sổ thị tiết_kiệm tiền', 'an bị_cáo container công_ty cơ_quan cơ_quan_chức_năng cảng doanh_nghiệp hoàng hàng hàng_hóa hải_quan khai kiểm_tra lê lô lộc minh nhập_khẩu nội_dung phạm sơn thành thịnh thủ_tục tphcm vụ án điều_tra', 'bình bị_cáo chất hoàng huệ hành_vi hđxx kiểm_sát lệ ma_túy minh mua_bán oanh phạm phạm_tội sinh thình thị trần tội viện văn vũ án đường_dây đề_nghị', 'chức_năng cá_thể công_an hà_nội khởi_tố kiểm_tra nhà_hàng quán tê_tê văn', 'bùi chia gia_đình hà_tĩnh hải lê minh thị tp vân vợ', 'bình bạc công_an huyện hòa liêu ma_túy tỉnh tội_phạm đối_tượng', 'bắt gà huyện tài xỉu điều_tra', 'quan_hệ tình_dục', 'bò bị_can công_an lực_lượng tỉnh tổ xe điều_tra', 'công_an huyện hành_vi nhơn_trạch quái tụ_tập xe xế đường', 'công_an huyện internet mạng thông_qua thưởng tiền tổ_chức đánh_bạc đường_dây đại_lý đối_tượng đổi', 'bình cửa_hàng hàng kiểm_tra mì_chính mỳ ninh tỉnh', '', 'bắt_giữ công_an huyện hà hồ_sỹ nam ngọc quốc tiền tổ_chức vượt_biên đàn đường_dây đối_tượng', 'cai công_an huyện hà hải_dương lào phòng thành_phố trọ tỉnh', 'công_an công_ty_tnhh minh mẫn nhà_thuốc sơn tỉnh điều_tra', 'bị_cáo chủ công_ty cựu_chủ_tịch dự_án ethanol giá gói_thầu hđqt khai ký nhà_thầu phú pvc pvn thăng thọ tiền trịnh tòa tập_đoàn xuân đinh_la đầu_tư', 'bào_chữa bình bị_cáo chỉ_đạo chỉ_định chủ dự_án ethanol giao hành_vi luật_sư lợi_ích nhà_thầu năng_lực phú pvb pvc pvn quan_điểm thiệt_hại thăng thầu thọ tiêu_cực vks án đinh_la đại_diện đầu_tư', 'bạch bị_can bị_cáo ca_nhạc_nhẹ chiếm_đoạt chấp_thuận chỉ_đạo công_an công_ty cơ_quan diệp hoàng hoán_đổi hương kiến_nghị lan lê nguyễn nhà_nước nhà_đất quân sai_phạm sở_hữu thành_tài thắng thị tphcm trung_tâm trách_nhiệm tài_sản xác_định án điều_tra đào đầu', 'công_an hình_sự trinh_sát truy_đuổi đức', 'bắt công_an dao phương phường thị_xã thọ triều yên điều_tra đối_tượng đồng_minh', 'bào_chữa bị_cáo chỉ_đạo chủ chủ_trương cáo_buộc cáo_trạng cựu_chủ_tịch dự_án kết_luận la lợi_ích nhà_thầu năng_lực pvb pvc pvn thăng triển_khai vks đinh_la đầu đầu_tư đề_nghị đồng_ý đứng', 'chi_phí chính_phủ chủ công_thương công_trình công_ty căn_cứ dương dự_án epc giá hình_thức hợp_đồng ký kế_hoạch lê mcc ngân_hàng nhà_nước nhà_thầu năng_lực nội_dung phụ quang thiết_bị thủ_tướng thứ_trưởng tisco tiến_độ trọn_gói tổng vinaincon vns văn_bản xem_xét xây_dựng xây_lắp ý_kiến điều_chỉnh đầu_tư đề_nghị', 'bé công công_an hương hải_dương khởi_tố nguyễn phụ_nữ sinh sn thùy thị thị_xã trang trà trâm trú trọng xã đánh_ghen đối_tượng', 'chiếm_đoạt chở con_cháu công_an nạn_nhân tuyết tài_sản đi đường', 'cây_cảnh huyện sơn trộm xã', 'bị_cáo campuchia chỉ_đạo công_an cơ_quan cường cảnh_sát giao hoàng ma_túy mua_bán oanh phường quang sinh thuê thị tphcm trần văn vũ vận_chuyển điều_tra', 'biên cảnh_sát dạng hoàng hà_nội hưởng long lâm nguyễn ngọc sn súng thu_giữ tiền trị_giá tuấn tài_khoản tổ_chức vinh văn đánh_bạc đạn đối_tượng', 'băng bẻ công_an khóa nguyện thủ tiền trộm tuấn xe xe_máy án đi', 'byă bị_cáo bồi_thường chủ_tịch chức_vụ cán_bộ công_vụ cư dự_án elang hưu hồ_sơ hộ lê lắk lợi_dụng nghĩa nguồn_gốc nhà_nước niê quyền_hạn sn sơn thi_hành thu_hồi tiền trách_nhiệm tuyên_phạt tỉnh ubnd xác_nhận xã đất đắk địa_chính đối_tượng đứng_tên', 'công_an giả_mạo hà_nội mã thiết_bị thông_tin tp trang_web truy_cập tệp_tin', 'công_an cơ_quan khám_nghiệm la nạn_nhân sơn tỉnh điều_tra', 'bùi cơ_sở dương rượu thành tiến uống đi', 'bắt_giữ công_an giá hung_khí hào mâu_thuẫn rạch thiếu_niên điều_tra', 'cà_phê công_an giá hành_chính hút kinh_doanh quán rạch shisha than thành_phố xử_phạt đốt', 'bị_cáo cháu hà_nội kế kỳ nhung nhân_viên phục_vụ quán sn thiếu_nữ thắng tù tội văn', 'cai công_an huyện hộp kiểm_tra lào mường_khương nổ pháo pháo_hoa phát_hiện sinh thị tỉnh xe xã', 'dây_chuyền kéo lê trúc xe_máy đường', 'công_an cảnh_sát huyện hình_sự phòng tiền trần tài tây_giang tổ_chức văn điều_tra đánh_bạc đối_tượng', 'gia_đình nghệ_an tỉnh', 'con_bạc công_an ghi thị_xã tiền đánh_bạc đối_tượng', 'nam nhựt quan_hệ sinh', 'huyện khởi_tố mil quần tiền vụ xã án đắk', 'an_giang công_an hiếu lê phường thành_phố tiền vàng điều_tra', 'công_an huyện kỳ lương ma_túy phanh sơn', 'công_an công_ty lã quảng_bình tiền trọng tỉnh văn điều_tra đại_lý', 'apple buôn_lậu bùi bổ_sung bộ_luật cung_cấp công_ty cường giao_dịch giám_đốc hiệu huy hàng hàng_hóa hình_sự khoản lao_động macbook mai mua mua_bán nguyễn ngọc nhật quang quy_định sửa_đổi tiến trưởng tội tự_do việt văn ánh đỗ', 'băng_nhóm csđt cung_ứng công_an công_ty cơ_quan cưỡng_đoạt hoạt_động hàng hàng_hóa hành_vi hạ_long làm_luật ma_túy nguyễn nộp phương quảng_ninh sn thị tiền tài_sản tàu tàu_thuyền tỉnh tội_phạm văn vịnh điều_tra đối_tượng', 'công_an dương lừa_đảo mạng sơn tiền tài_sản tạ điện_thoại đình đối_tượng', 'bị_cáo chủ công_ty cựu_chủ_tịch dự_án ethanol giá gói_thầu hđqt khai ký nhà_thầu phú pvc pvn thăng thọ tiền trịnh tòa tập_đoàn xuân đinh_la đầu_tư', 'bào_chữa bình bị_cáo chỉ_đạo chỉ_định chủ dự_án ethanol giao hành_vi luật_sư lợi_ích nhà_thầu năng_lực phú pvb pvc pvn quan_điểm thiệt_hại thăng thầu thọ tiêu_cực vks án đinh_la đại_diện đầu_tư', 'bạch bị_can bị_cáo ca_nhạc_nhẹ chiếm_đoạt chấp_thuận chỉ_đạo công_an công_ty cơ_quan diệp hoàng hoán_đổi hương kiến_nghị lan lê nguyễn nhà_nước nhà_đất quân sai_phạm sở_hữu thành_tài thắng thị tphcm trung_tâm trách_nhiệm tài_sản xác_định án điều_tra đào đầu', 'công_an hình_sự trinh_sát truy_đuổi đức', 'bắt công_an dao phương phường thị_xã thọ triều yên điều_tra đối_tượng đồng_minh', 'bào_chữa bị_cáo chỉ_đạo chủ chủ_trương cáo_buộc cáo_trạng cựu_chủ_tịch dự_án kết_luận la lợi_ích nhà_thầu năng_lực pvb pvc pvn thăng triển_khai vks đinh_la đầu đầu_tư đề_nghị đồng_ý đứng', 'chi_phí chính_phủ chủ công_thương công_trình công_ty căn_cứ dương dự_án epc giá hình_thức hợp_đồng ký kế_hoạch lê mcc ngân_hàng nhà_nước nhà_thầu năng_lực nội_dung phụ quang thiết_bị thủ_tướng thứ_trưởng tisco tiến_độ trọn_gói tổng vinaincon vns văn_bản xem_xét xây_dựng xây_lắp ý_kiến điều_chỉnh đầu_tư đề_nghị', 'bé công công_an hương hải_dương khởi_tố nguyễn phụ_nữ sinh sn thùy thị thị_xã trang trà trâm trú trọng xã đánh_ghen đối_tượng']\n13131\n"
     ]
    }
   ],
   "source": [
    "print(data)\n",
    "print(len(categories_data))"
   ]
  },
  {
   "source": [
    "### Save dataset with pickle"
   ],
   "cell_type": "markdown",
   "metadata": {}
  },
  {
   "cell_type": "code",
   "execution_count": 34,
   "metadata": {},
   "outputs": [],
   "source": [
    "fileStore = FileStore(settings.DIR_PATH + \"//\"+ 'xnew.pkl')\n",
    "fileStore.save_pickle(data)\n",
    "fileStore = FileStore(settings.DIR_PATH + \"//\"+ 'ynew.pkl')\n",
    "fileStore.save_pickle(categories_data)"
   ]
  },
  {
   "cell_type": "code",
   "execution_count": null,
   "metadata": {},
   "outputs": [],
   "source": []
  }
 ]
}