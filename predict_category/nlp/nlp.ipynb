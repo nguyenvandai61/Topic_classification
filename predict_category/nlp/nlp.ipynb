{
 "metadata": {
  "language_info": {
   "codemirror_mode": {
    "name": "ipython",
    "version": 3
   },
   "file_extension": ".py",
   "mimetype": "text/x-python",
   "name": "python",
   "nbconvert_exporter": "python",
   "pygments_lexer": "ipython3",
   "version": "3.8.0-final"
  },
  "orig_nbformat": 2,
  "kernelspec": {
   "name": "python3",
   "display_name": "Python 3.8.0 64-bit ('env')",
   "metadata": {
    "interpreter": {
     "hash": "8d55cdf79215819001478c04454d37af6c62547f8e7d6940d08715a2588f151f"
    }
   }
  }
 },
 "nbformat": 4,
 "nbformat_minor": 2,
 "cells": [
  {
   "cell_type": "code",
   "execution_count": 1,
   "metadata": {},
   "outputs": [
    {
     "output_type": "stream",
     "name": "stdout",
     "text": [
      "D:\\Learning\\Nam4_2\\LTMNC\\PythonCrawler\\newscrawler\\predict_category\\dictionary\\stop_words3.txt\nD:\\Learning\\Nam4_2\\LTMNC\\PythonCrawler\\newscrawler\\predict_category\\dictionary\\stop_words3.txt\nFalse\n"
     ]
    }
   ],
   "source": [
    "import urls\n",
    "import os\n",
    "import sys\n",
    "\n",
    "class FileReader(object):\n",
    "    def __init__(self, filePath):\n",
    "        self.filePath = filePath\n",
    "    \n",
    "    def read(self):\n",
    "        with open(self.filePath) as f:\n",
    "            s = f.read()\n",
    "        return s\n",
    "\n",
    "    def get_line_array(self):\n",
    "        with open(self.filePath, 'r', encoding=\"utf8\") as f:\n",
    "            stopwords = set([w.strip() for w in f.readlines()])\n",
    "            return stopwords\n",
    "fr = FileReader(urls.STOP_WORDS).get_line_array()\n",
    "print(\"ra\" not in fr)"
   ]
  },
  {
   "cell_type": "code",
   "execution_count": 3,
   "metadata": {
    "tags": []
   },
   "outputs": [
    {
     "output_type": "stream",
     "name": "stdout",
     "text": [
      "['nhà_hàng', 'yêu']\n"
     ]
    }
   ],
   "source": [
    "from pyvi import ViTokenizer, ViPosTagger\n",
    "import numpy as np\n",
    "import string\n",
    "\n",
    "\n",
    "class NLP(object):\n",
    "    def __init__(self, text=None):\n",
    "        self.text = text\n",
    "        self.stopwords = FileReader(urls.STOP_WORDS).get_line_array()\n",
    "        self.newWords = []\n",
    "        \n",
    "\n",
    "    def remove_punctuation(self):\n",
    "        self.text = self.text.translate(str.maketrans('', '', string.punctuation))\n",
    "        return self.text\n",
    "\n",
    "    def remove_stopwords(self):\n",
    "        \n",
    "        for index in range(len(self.words[0])):\n",
    "            if (self.words[0][index] not in self.stopwords ):\n",
    "                self.newWords.append(self.words[0][index])\n",
    "        # self.newWords = [word for word in self.words[0] if word not in np.array(self.stopwords)]\n",
    "        \n",
    "        return self.newWords\n",
    "    \n",
    "    def lower_sentences(self):\n",
    "         self.text = self.text.lower()\n",
    "         return self.text\n",
    "\n",
    "    def tokenize_sentences(self):\n",
    "        return ViTokenizer.tokenize(self.text)\n",
    "\n",
    "    def segment_word(self):\n",
    "        self.words = ViPosTagger.postagging(self.tokenize_sentences())\n",
    "        return self.words\n",
    "\n",
    "    def __repr__(self):\n",
    "        return self.text\n",
    "\n",
    "\n",
    "\n",
    "str = \"Đây là nhà hàng, và tôi yêu thích\"\n",
    "nlp = NLP(text=str)\n",
    "nlp.lower_sentences()\n",
    "nlp.remove_punctuation()\n",
    "nlp.segment_word()\n",
    "\n",
    "# print(ViTokenizer.tokenize(u\"Trường đại học bách khoa hà nội\"))\n",
    "print(nlp.remove_stopwords())\n"
   ]
  },
  {
   "cell_type": "code",
   "execution_count": null,
   "metadata": {},
   "outputs": [],
   "source": []
  }
 ]
}