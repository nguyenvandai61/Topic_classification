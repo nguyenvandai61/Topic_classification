{
 "metadata": {
  "language_info": {
   "codemirror_mode": {
    "name": "ipython",
    "version": 3
   },
   "file_extension": ".py",
   "mimetype": "text/x-python",
   "name": "python",
   "nbconvert_exporter": "python",
   "pygments_lexer": "ipython3",
   "version": "3.8.0-final"
  },
  "orig_nbformat": 2,
  "kernelspec": {
   "name": "python3",
   "display_name": "Python 3.8.0 64-bit ('env')",
   "metadata": {
    "interpreter": {
     "hash": "8d55cdf79215819001478c04454d37af6c62547f8e7d6940d08715a2588f151f"
    }
   }
  }
 },
 "nbformat": 4,
 "nbformat_minor": 2,
 "cells": [
  {
   "cell_type": "code",
   "execution_count": 10,
   "metadata": {},
   "outputs": [
    {
     "output_type": "stream",
     "name": "stdout",
     "text": [
      "False\n"
     ]
    }
   ],
   "source": [
    "import urls\n",
    "import os\n",
    "import sys\n",
    "\n",
    "class FileReader(object):\n",
    "    def __init__(self, filePath):\n",
    "        self.filePath = filePath\n",
    "    \n",
    "    def read(self):\n",
    "        with open(self.filePath, 'r', encoding=\"utf8\") as f:\n",
    "            s = f.read()\n",
    "        return s\n",
    "\n",
    "    def read_lines(self):\n",
    "        with open(self.filePath, 'r', encoding=\"utf8\") as f:\n",
    "            stopwords = set([w.strip() for w in f.readlines()])\n",
    "            return stopwords\n",
    "fr = FileReader(urls.STOP_WORDS).read_lines()\n",
    "print(\"ra\" not in fr)"
   ]
  },
  {
   "cell_type": "code",
   "execution_count": 21,
   "metadata": {
    "tags": []
   },
   "outputs": [],
   "source": [
    "from pyvi import ViTokenizer, ViPosTagger\n",
    "import numpy as np\n",
    "import string\n",
    "import re\n",
    "\n",
    "\n",
    "class NLP(object):\n",
    "    def __init__(self, text=None):\n",
    "        self.text = text\n",
    "        self.stopwords = FileReader(urls.STOP_WORDS).read_lines()\n",
    "        self.newWords = []\n",
    "        \n",
    "    def remove_tags(self, raw_html):\n",
    "        cleanr = re.compile('<.*?>')\n",
    "        cleantext = re.sub(cleanr, '', raw_html )\n",
    "        return cleantext\n",
    "\n",
    "\n",
    "    def remove_punctuation(self, text):\n",
    "        return text.translate(str.maketrans('', '', string.punctuation))\n",
    "        \n",
    "\n",
    "    def remove_stopwords(self, words, stopwords):\n",
    "        important_words = []\n",
    "        for index in range(len(words)):\n",
    "            if (words[index] not in stopwords ):\n",
    "                important_words.append(words[index])\n",
    "        return important_words\n",
    "    \n",
    "    def lower_sentences(self, text):\n",
    "         return text.lower()\n",
    "\n",
    "    def tokenize_sentences(self, text):\n",
    "        return ViTokenizer.tokenize(text)\n",
    "\n",
    "    def segment_word(self, tokens):\n",
    "        return ViPosTagger.postagging(tokens)\n",
    "\n",
    "    def preprocessText(self, text):\n",
    "        processed_text = text\n",
    "        processed_text = self.remove_tags(processed_text)\n",
    "        processed_text = self.lower_sentences(processed_text)\n",
    "        processed_text = self.remove_punctuation(processed_text)\n",
    "        tokens = self.segment_word(self.tokenize_sentences(processed_text))\n",
    "        important_tokens = self.remove_stopwords(tokens[0], self.stopwords)\n",
    "        self.tokens = important_tokens\n",
    "        return self.tokens\n",
    "\n",
    "    def __repr__(self):\n",
    "        return self.text\n",
    "\n",
    "\n",
    "\n"
   ]
  },
  {
   "cell_type": "code",
   "execution_count": 26,
   "metadata": {},
   "outputs": [
    {
     "output_type": "stream",
     "name": "stdout",
     "text": [
      "D:\\Learning\\Nam4_2\\LTMNC\\PythonCrawler\\newscrawler\\predict_category\\raw_data\\test\\example1.txt\nErwin Koeman, anh của HLV Ronald Koeman, tiết lộ việc Barca bị rò rỉ thông tin đội hình hồi đầu mùa 2020-2021.\n\n\"Trong những tháng đầu Ronald làm việc, ai đó trong phòng thay đồ đã làm rò rỉ thông tin đội hình, nhưng em tôi đã giải quyết được vấn đề đó\", Erwin Koeman, người cũng từng là tuyển thủ Hà Lan, nói với <em>Voetbal International</em> hôm 2/2.\nRonald Koeman dẫn dắt Barca từ tháng 8/2020, không lâu sau khi đội bóng kết thúc mùa giải trắng tay bằng trận <a href=\"https://vnexpress.net/bong-da/bayern-thang-barca-8-2-o-champions-league-4146826.html\" rel=\"dofollow\">thua Bayern 2-8</a>. Sau gần nửa năm làm việc, nhà cầm quân người Hà Lan vẫn chưa thể đưa Barca trở lại đỉnh cao. Nhà cựu vô địch hiện xếp thứ hai <a href=\"https://vnexpress.net/chu-de/la-liga-41\" rel=\"dofollow\">La Liga</a> sau 20 vòng đầu, <a href=\"https://vnexpress.net/atletico-nang-cach-biet-voi-real-len-10-diem-4229471.html\" rel=\"dofollow\">kém 10 điểm</a> và chơi nhiều hơn một trận so với Atletico Madrid.\n\"Ronald có căng thẳng nhất định khi làm việc cho Barca, nhiều hơn so với thời dẫn dắt tuyển Hà Lan. Barca không hoạt động theo kiểu ba tháng một lần như đội tuyển. Ronald phải tập trung hoàn toàn. Chúng tôi thường nói chuyện về Barca, cầu thủ và gia đình. Đôi khi, tôi vẫn cố vấn cho Ronald\", Erwin cho biết thêm.\nRonald Koeman không phải là người duy nhất gặp vấn đề \"gián điệp\" thời gian qua tại Barca. Hôm 31/1, tờ <em>El Mundo</em> bất ngờ <a href=\"https://vnexpress.net/messi-nhan-gan-700-trieu-usd-trong-bon-nam-o-barca-4229264.html\" rel=\"dofollow\">tiết lộ giá trị hợp đồng</a> gần 700 triệu USD giữa Messi và CLB, thông tin vốn chỉ dành cho người trong cuộc và lãnh đạo cấp cao.\nNhiều ý kiến nghi ngờ người tiết lộ là Josep Bartomeu, vị cựu Chủ tịch từng mâu thuẫn với Messi và nhiều cầu thủ. Tuy nhiên, Bartomeu bác bỏ: \"Tin đồn tôi tiết lộ hợp đồng Messi hoàn toàn sai sự thật. Đây là một việc rất nghiêm trọng. Tiết lộ thông tin hợp đồng cho giới truyền thông là vi phạm pháp luật. Thật dễ để cáo buộc, nhưng đây không phải là một trò đùa, và nó sẽ dẫn đến việc phải hầu tòa. Messi xứng đáng với mọi thứ cậu ấy nhận được, bất kể vì lý do bóng đá hay thương mại. Nếu không có đại dịch, Barca nhiều khả năng thanh toán được con số đó\".\n\n['erwin', 'koeman', 'hlv', 'ronald', 'koeman', 'tiết_lộ', 'barca', 'rò_rỉ', 'thông_tin', 'đội_hình', 'hồi', 'đầu', 'mùa', '20202021', 'đầu', 'ronald', 'làm_việc', 'phòng', 'thay_đồ', 'rò_rỉ', 'thông_tin', 'đội_hình', 'giải_quyết', 'erwin', 'koeman', 'tuyển_thủ', 'hà_lan', 'voetbal', 'international', 'hôm', '22', 'ronald', 'koeman', 'dẫn_dắt', 'barca', '82020', 'đội', 'bóng', 'kết_thúc', 'mùa', 'giải', 'trắng_tay', 'trận', 'thua', 'bayern', '28', 'nửa', 'làm_việc', 'cầm_quân', 'hà_lan', 'thể', 'barca', 'trở_lại', 'đỉnh_cao', 'cựu', 'vô_địch', 'hiện', 'xếp', 'hai', 'la', 'liga', '20', 'vòng', 'đầu', 'kém', '10', 'trận', 'atletico', 'madrid', 'ronald', 'căng_thẳng', 'làm_việc', 'barca', 'thời', 'dẫn_dắt', 'tuyển', 'hà_lan', 'barca', 'hoạt_động', 'kiểu', 'tháng_một', 'đội_tuyển', 'ronald', 'nói_chuyện', 'barca', 'cầu_thủ', 'gia_đình', 'đôi_khi', 'cố_vấn', 'ronald', 'erwin', 'ronald', 'koeman', 'duy_nhất', 'gián_điệp', 'barca', 'hôm', '311', 'tờ', 'el', 'mundo', 'tiết_lộ', 'hợp_đồng', '700', 'triệu', 'usd', 'messi', 'clb', 'thông_tin', 'vốn', 'lãnh_đạo', 'ý_kiến', 'nghi_ngờ', 'tiết_lộ', 'josep', 'bartomeu', 'vị', 'cựu_chủ_tịch', 'mâu_thuẫn', 'messi', 'cầu_thủ', 'bartomeu', 'bác_bỏ', 'tin_đồn', 'tiết_lộ', 'hợp_đồng', 'messi', 'sai', 'sự_thật', 'nghiêm_trọng', 'tiết_lộ', 'thông_tin', 'hợp_đồng', 'giới', 'truyền_thông', 'vi_phạm_pháp_luật', 'cáo_buộc', 'trò_đùa', 'hầu_tòa', 'messi', 'xứng_đáng', 'bóng_đá', 'thương_mại', 'đại_dịch', 'barca', 'khả_năng', 'thanh_toán', 'con_số']\nD:\\Learning\\Nam4_2\\LTMNC\\PythonCrawler\\newscrawler\\predict_category\\raw_data\\test\\example2.txt\nSau giai đoạn thiếu hiệu quả, màn tái xuất của Rolls-Royce, Jeep, Renault, Nissan, MG trong 2020 thông qua các nhà phân phối mới nhận được nhiều kỳ vọng.\nDịch Covid-19 trong 2020 khiến thị trường ôtô Việt Nam có nhiều xáo trộn, đặc biệt về thị phần giữa các hãng cũng như doanh số suy yếu. Nhưng điều đó cũng không ngăn nhiều thương hiệu cũ tái xuất Việt Nam với nhiều hy vọng mới, đặc biệt sau giai đoạn kinh doanh không mấy thành công dưới tay các nhà phân phối cũ.\n<a href=\"https://vnexpress.net/xe-jeep-tro-lai-thi-truong-viet-gia-tu-3-ty-dong-4209103.html\" rel=\"dofollow\" target=\"_blank\">Sự trở lại của <strong>Jeep</strong></a> tại Việt Nam muộn nhất trong 5 thương hiệu, nhưng không quá náo nhiệt. Những chiếc xe Mỹ thiết kế cơ bắp, lực lưỡng âm thầm cập cảng phía nam. Mọi thông tin về màn tái xuất của Jeep rất ít ỏi. Khi showroom trên một tuyến đường lớn tại quận 7 hôm 19/12 sáng đèn, bên trong là hai mẫu SUV Wrangler, bán tải Gladiator, người đi đường mới nhận ra thương hiệu được biết đến nhiều thông qua những chiếc xe quân sự trong quá khứ, nay đã trở lại với hình hài mới.\nMức giá thấp nhất gần 3 tỷ đồng cho một chiếc xe nhập Mỹ, ngoại hình đủ điều kiện \"không đụng hàng\" khi di chuyển trên đường, khiến nhiều người thích thú xen lẫn boăn khoăn. Xe lạ, giá cũng lạ.\nLạ ở chỗ, những chiếc Jeep Wrangler hay Gladiator hiếm thấy trên đường phố nếu so với số lượng của xe Hàn, Nhật, Mỹ hay Đức. Nếu khách yêu thích chất nam tính kiểu Mỹ hay di sản của những chiếc xe Jeep trong quá khứ về sự bền bỉ, mạnh mẽ, mức giá của Jeep Wrangler hay Gladiator không trở nên vô lý. Thậm chí nếu nhìn vào những chiếc <a href=\"https://vnexpress.net/toyota-rav4-2020-gia-2-6-ty-dong-loi-cong-nghe-an-toan-thiet-tien-nghi-4089811.html#:~:text=Toyota%20RAV4%202020%20gi%C3%A1%202,to%C3%A0n%2C%20thi%E1%BB%87t%20ti%E1%BB%87n%20nghi%20-%20VnExpress\" rel=\"dofollow\" target=\"_blank\">Toyota RAV4</a> với ghế nỉ, chỉnh cơ giá 2,6 tỷ, hay chính vài chiếc Jeep Gladiator gần 4 tỷ nhập tư nhân trước đây, không ít người chấp nhận trả giá cho đam mê của mình dù nó không tương đồng với số đông.\nDẫu vậy, nhà phân phối kỳ vọng doanh số 180 xe mỗi năm, đồng nghĩa với việc cần sự đa dạng sản phẩm cũng như chiến lược giá hấp dẫn hơn. Khách mê Jeep không muốn sự trở lại lần này tiếp tục là một cuộc dạo chơi của thương hiệu đầy chất riêng.\nỞ tuyến đường song song dẫn vào khu chế xuất Tân Thuận (quận 7, TP HCM) hình thành một thủ phủ showroom chính hãng: Mercedes, Ferrari, Subaru, Lamborghini, Aston Martin, Bentley, Ducati, Volvo. Trong số này còn thiếu một cái tên từ Pháp, <strong>Renault</strong>.\nVẫn chưa có thông tin chính thức nào từ Renault cho giới truyền thông về sự trở lại của thương hiệu châu Âu từng xuất hiện tại Việt Nam, nhưng hai mẫu Arkana giá từ 999 triệu đồng và Captur giá 799 triệu đồng đang âm thầm bán ra. Dẫn dắt Renault là một nữ tướng quen thuộc trong ngành xe. Bà nói rằng đang có những kế hoạch riêng cho Renault, tập trung vào các mẫu xe gầm cao kèm mức giá hợp lý cho khách hàng phổ thông thay vì tiếp tục kiểu tiếp cận \"trên xe Hàn, Nhật một bậc\" như nhà phân phối cũ.\nLần bắt tay của Renault với nhà phân phối cũ đã để lại nhiều tiếc nuối. Dải sản phẩm ít đổi mới, cách định giá khá cao so với mặt bằng chung khiến thương hiệu Pháp dần mất tích trên thị trường Việt. Renault là thương hiệu ôtô phổ thông duy nhất hiện được CT Wearnes phân phối, bên cạnh Lamborghini, Bentley, Aston Martin.\nÂm thầm như Jeep trong lần bắt tay nhà phân phối mới nhưng với danh tiếng của mình, <strong>Rolls-Royce</strong> đủ khiến nhiều người tò mò, rằng cái tên nào trong làng xe sẽ mang trọng trách bán các sản phẩm được ví như \"một tác phẩm nghệ thuật\". \nS&S Automotive thành lập hồi tháng 10, sẽ là <a href=\"https://vnexpress.net/rolls-royce-co-nha-phan-phoi-moi-tai-viet-nam-4206000.html#:~:text=Nh%C3%A0%20ph%C3%A2n%20ph%E1%BB%91i%20m%E1%BB%9Bi%20s%E1%BA%BD,xe%20ngay%20t%E1%BB%AB%20b%C3%A2y%20gi%E1%BB%9D.&amp;text=B%C3%A0%20T%C3%BA%20L%C3%AA%2C%20Gi%C3%A1m%20%C4%91%E1%BB%91c,m%E1%BB%99t%20showroom%20t%E1%BA%A1i%20S%C3%A0i%20G%C3%B2n.\" rel=\"dofollow\" target=\"_blank\">đối tác mới của hãng siêu sang Anh</a> quốc. Dù tuổi đời non trẻ nhưng đứng đằng sau công ty này là S&S Group, một thương hiệu có kinh nghiệm 10 năm chuyên phân phối hàng xa xỉ tại Việt Nam như đồng hồ, trang sức, thời trang, mỹ thuật.\nMột trong những lý do hãng xe Anh quốc chia tay Regal Motors là sự đồng điệu về định hướng kinh doanh giữa hai bên không có. Rolls-Royce muốn mở rộng hoạt động kèm showroom mới ở TP HCM, thành phố năng động bậc nhất nước, trong khi nhà phân phối cũ có hướng đi khác, showroom vẫn muốn duy trì ở Hà Nội.\nTuy vậy, phải đến quý II/2021, showroom ở Sài Gòn của Rolls-Royce dự kiến mới đi vào hoạt động, trong khi khách hàng có thể đặt xe bây giờ. Ở lần thay đối tác kinh doanh này, hãng xe Anh quốc dường như muốn nhiều hơn, đi nhanh hơn. Còn ở khía cạnh sản phẩm, cách tiếp cận khách hàng gần như không thay đổi, mặc địch và là triết lý xuyên suốt của hãng, nơi Rolls-Royce đáp ứng mọi yêu cầu của chủ nhân miễn là họ chi tiền một cách vui vẻ.\nLà một trong nhiều thương hiệu nội địa rời xa \"bầu sữa mẹ\" Anh quốc, <strong>MG Motor </strong>thậm chí còn lưu lạc xa hơn Rolls-Royce (sở hữu bởi BMW, Đức). Hãng hiện thuộc quyền quản lý của công ty công nghiệp ôtô Thượng Hải, SAIC (Trung Quốc), thương hiệu này hiện hoạt động khá mạnh tại Thái Lan và Indonesia. Hồi 2012, MG từng bán xe ở Việt Nam rồi âm thầm rút lui. 8 năm sau, MG tái xuất.\nHồi tháng 7, khi <a href=\"https://vnexpress.net/oto-mg-quay-lai-viet-nam-gia-tu-518-trieu-dong-4132178.html\" rel=\"dofollow\" target=\"_blank\">MG công bố hoạt động kinh doanh</a> tại Việt Nam với hai sản phẩm đầu tiên ZS và HS lần lượt ở phân khúc xe gầm cao hạng B, C, điều rất nhiều người quan tâm không phải giá bán, trang bị của xe bao nhiêu mà là nguồn gốc. MG là xe Anh hay xe Trung Quốc?\nCâu trả lời không quá khó hay phức tạp như những tranh cãi trên mạng xã hội. MG là thương hiệu xe Anh nhưng được vận hành bởi người Trung Quốc. Điều quan trọng là chất lượng mang đến cho người dùng kèm mức giá hợp lý như thế nào. Volvo (Thụy Điển) cũng được vận hành bởi Geely (Trung Quốc) và gặt hái những thành công vượt bậc về doanh số. Định vị \"an toàn nhất thế giới\" của Volvo ngày càng đậm nét hơn.\nMG giống trường hợp của Volvo nhưng ở phân khúc phổ thông, nơi đòi hỏi về công nghệ, trang bị an toàn ít hơn dễ khiến khách hàng soi xét kỹ. Điều đó cũng phản ánh tâm lý \"cẩn trọng\" với sản phẩm xuất xứ Trung Quốc của người Việt. Hai mẫu xe của MG hiện lắp ráp và nhập khẩu từ đại lục. Cuối 2020, đầu 2021, nhà phân phối Tan Chong đặt mục tiêu lắp ráp xe MG tại nhà máy của hãng ở Đà Nẵng, nơi từng lắp các mẫu xe của Nissan.\nBài toán của MG, ngoài thiết kế và trang bị, hãng trước tiên phải thắng và chinh phục được niềm tin của người tiêu dùng. Nếu thế, hãng cần thêm thời gian.\nBắt tay với MG, Tan Chong đồng thời chia tay mối lương duyên với <strong>Nissan</strong> sau nhiều năm gắn bó. Công ty <a href=\"https://vnexpress.net/nha-phan-phoi-moi-xe-nissan-tai-viet-nam-la-ai-4167093.html#:~:text=C%C3%B4ng%20ty%20TNHH%20Ph%C3%A1t%20tri%E1%BB%83n,Vi%E1%BB%87t%20Nam%20t%E1%BB%AB%201%2F10.\" rel=\"dofollow\" target=\"_blank\">VAD trở thành nhà phân phối mới</a>. Hãng mang Navara bản mới về bán tại Việt Nam, trong khi các dòng xe của nhà phân phối cũ vẫn đang trong giai đoạn dọn kho.\nCông bố hoạt động từ tháng 9 nhưng có lẽ từ 2021, những mẫu xe mới của Nissan mới dạm ngõ thị trường Việt Nam. Hiện chưa có thông tin nào về việc liệu VAD có lắp ráp xe Nissan hay chỉ dựa hoàn toàn vào hình thức nhập khẩu.\nHệ thống đại lý tiếp quản từ nhà phân phối cũ và có kế hoạch mở rộng thêm cho thấy tham vọng của VAD. Tuy nhiên những bước đi cụ thể hơn vẫn chưa xuất hiện.\n\n['giai_đoạn', 'hiệu_quả', 'màn', 'tái_xuất', 'rollsroyce', 'jeep', 'renault', 'nissan', 'mg', '2020', 'thông_qua', 'phân_phối', 'kỳ_vọng', 'dịch', 'covid19', '2020', 'thị_trường', 'ôtô', 'việt', 'nam', 'xáo_trộn', 'thị_phần', 'hãng', 'doanh_số', 'suy_yếu', 'ngăn', 'thương_hiệu', 'cũ', 'tái_xuất', 'việt_nam', 'hy_vọng', 'giai_đoạn', 'kinh_doanh', 'mấy', 'thành_công', 'phân_phối', 'cũ', 'trở_lại', 'jeep', 'việt', 'nam', 'muộn', '5', 'thương_hiệu', 'náo_nhiệt', 'xe', 'mỹ', 'thiết_kế', 'cơ_bắp', 'lực_lưỡng', 'âm_thầm', 'cập', 'cảng', 'nam', 'thông_tin', 'màn', 'tái_xuất', 'jeep', 'ít_ỏi', 'showroom', 'tuyến', 'đường', '7', 'hôm', '1912', 'đèn', 'hai', 'mẫu', 'suv', 'wrangler', 'tải', 'gladiator', 'đi', 'đường', 'thương_hiệu', 'thông_qua', 'xe', 'quân_sự', 'quá_khứ', 'trở_lại', 'hình_hài', 'giá', '3', 'tỷ', 'đồng', 'xe', 'nhập', 'mỹ', 'ngoại_hình', 'đụng', 'hàng', 'di_chuyển', 'đường', 'thích_thú', 'xen_lẫn', 'boăn', 'khoăn', 'xe', 'lạ', 'giá', 'lạ', 'lạ', 'chỗ', 'jeep', 'wrangler', 'gladiator', 'hiếm', 'đường_phố', 'số_lượng', 'xe', 'hàn', 'nhật', 'mỹ', 'đức', 'yêu', 'chất', 'nam_tính', 'kiểu', 'mỹ', 'di_sản', 'xe_jeep', 'quá_khứ', 'bền_bỉ', 'mạnh_mẽ', 'giá', 'jeep', 'wrangler', 'gladiator', 'trở_nên', 'vô_lý', 'toyota', 'rav4', 'ghế', 'nỉ', 'chỉnh', 'giá', '26', 'tỷ', 'jeep', 'gladiator', '4', 'tỷ', 'nhập', 'tư_nhân', 'chấp_nhận', 'trả_giá', 'đam_mê', 'tương_đồng', 'đông', 'phân_phối', 'kỳ_vọng', 'doanh_số', '180', 'xe', 'đồng_nghĩa', 'đa_dạng', 'sản_phẩm', 'chiến_lược', 'giá', 'hấp_dẫn', 'mê', 'jeep', 'trở_lại', 'dạo', 'thương_hiệu', 'chất', 'tuyến', 'đường', 'song_song', 'khu', 'chế_xuất', 'tân_thuận', '7', 'tp', 'hcm', 'hình_thành', 'thủ', 'phủ', 'showroom', 'hãng', 'mercedes', 'ferrari', 'subaru', 'lamborghini', 'aston', 'martin', 'bentley', 'ducati', 'volvo', 'pháp', 'renault', 'thông_tin', 'chính_thức', 'renault', 'giới', 'truyền_thông', 'trở_lại', 'thương_hiệu', 'châu', 'âu', 'xuất_hiện_tại', 'việt', 'nam', 'hai', 'mẫu', 'arkana', 'giá', '999', 'triệu', 'đồng', 'captur', 'giá', '799', 'triệu', 'đồng', 'âm_thầm', 'dẫn_dắt', 'renault', 'nữ_tướng', 'quen_thuộc', 'ngành', 'xe', 'kế_hoạch', 'renault', 'mẫu', 'xe', 'gầm', 'kèm', 'giá', 'hợp_lý', 'khách_hàng', 'phổ_thông', 'thay_vì', 'kiểu', 'tiếp_cận', 'xe', 'hàn', 'nhật', 'bậc', 'phân_phối', 'cũ', 'bắt_tay', 'renault', 'phân_phối', 'cũ', 'tiếc_nuối', 'dải', 'sản_phẩm', 'đổi_mới', 'định_giá', 'mặt_bằng', 'thương_hiệu', 'pháp', 'dần', 'mất_tích', 'thị_trường', 'việt', 'renault', 'thương_hiệu', 'ôtô', 'phổ_thông', 'duy_nhất', 'hiện', 'ct', 'wearnes', 'phân_phối', 'cạnh', 'lamborghini', 'bentley', 'aston', 'martin', 'âm_thầm', 'jeep', 'bắt_tay', 'phân_phối', 'danh_tiếng', 'rollsroyce', 'tò_mò', 'làng', 'xe', 'trọng_trách', 'sản_phẩm', 'ví_như', 'tác_phẩm', 'nghệ_thuật', 'ss', 'automotive', 'thành_lập', 'hồi', '10', 'đối_tác', 'hãng', 'siêu', 'quốc', 'tuổi_đời', 'non_trẻ', 'đứng', 'đằng', 'công_ty', 'ss', 'group', 'thương_hiệu', 'kinh_nghiệm', '10', 'chuyên', 'phân_phối', 'hàng', 'xa_xỉ', 'việt_nam', 'đồng_hồ', 'trang_sức', 'thời_trang', 'mỹ_thuật', 'hãng', 'xe', 'quốc', 'chia_tay', 'regal', 'motors', 'đồng_điệu', 'định_hướng', 'kinh_doanh', 'hai', 'rollsroyce', 'mở_rộng', 'hoạt_động', 'kèm', 'showroom', 'tp', 'hcm', 'thành_phố', 'năng_động', 'bậc', 'phân_phối', 'cũ', 'hướng', 'đi', 'showroom', 'duy_trì', 'hà_nội', 'quý', 'ii2021', 'showroom', 'sài_gòn', 'rollsroyce', 'dự_kiến', 'đi', 'hoạt_động', 'khách_hàng', 'xe', 'thay', 'đối_tác', 'kinh_doanh', 'hãng', 'xe', 'quốc', 'dường_như', 'đi', 'khía_cạnh', 'sản_phẩm_cách', 'tiếp_cận', 'khách_hàng', 'mặc', 'địch', 'triết_lý', 'xuyên', 'suốt', 'hãng', 'rollsroyce', 'đáp_ứng', 'chủ_nhân', 'miễn_là', 'chi', 'tiền', 'vui_vẻ', 'thương_hiệu', 'nội_địa', 'rời', 'bầu', 'sữa', 'mẹ', 'quốc', 'mg', 'motor', 'lưu_lạc', 'rollsroyce', 'sở_hữu', 'bmw', 'đức', 'hãng', 'hiện', 'quyền', 'quản_lý', 'công_ty', 'công_nghiệp', 'ôtô', 'thượng', 'hải', 'saic', 'trung', 'quốc', 'thương_hiệu', 'hiện', 'hoạt_động', 'thái', 'lan', 'indonesia', 'hồi', '2012', 'mg', 'xe', 'việt', 'nam', 'âm_thầm', 'rút_lui', '8', 'mg', 'tái_xuất', 'hồi', '7', 'mg', 'công_bố', 'hoạt_động_kinh_doanh', 'việt_nam', 'hai', 'sản_phẩm', 'zs', 'hs', 'lần_lượt', 'phân', 'khúc', 'xe', 'gầm', 'hạng', 'b', 'c', 'giá', 'trang_bị', 'xe', 'nguồn_gốc', 'mg', 'xe', 'xe', 'trung', 'quốc', 'câu', 'trả_lời', 'phức_tạp', 'tranh_cãi', 'mạng', 'xã_hội', 'mg', 'thương_hiệu', 'xe', 'vận_hành', 'trung', 'quốc', 'chất_lượng', 'kèm', 'giá', 'hợp_lý', 'volvo', 'thụy', 'điển', 'vận_hành', 'geely', 'trung_quốc', 'gặt_hái', 'thành_công', 'vượt_bậc', 'doanh_số', 'định_vị', 'an_toàn', 'thế_giới', 'volvo', 'đậm_nét', 'mg', 'trường_hợp', 'volvo', 'phân', 'khúc', 'phổ_thông', 'đòi_hỏi', 'công_nghệ', 'trang_bị', 'an_toàn', 'khách_hàng', 'soi', 'xét', 'kỹ', 'phản_ánh', 'tâm_lý', 'cẩn_trọng', 'sản_phẩm', 'xuất_xứ', 'trung_quốc', 'việt', 'hai', 'mẫu', 'xe', 'mg', 'hiện', 'lắp_ráp', 'nhập_khẩu', 'đại_lục', '2020', 'đầu', '2021', 'phân_phối', 'tan', 'chong', 'mục_tiêu', 'lắp_ráp', 'xe', 'mg', 'nhà_máy', 'hãng', 'đà_nẵng', 'lắp', 'mẫu', 'xe', 'nissan', 'bài_toán', 'mg', 'thiết_kế', 'trang_bị', 'hãng', 'thắng', 'chinh_phục', 'niềm', 'tiêu_dùng', 'hãng', 'bắt_tay', 'mg', 'tan', 'chong', 'chia_tay', 'lương', 'duyên', 'nissan', 'gắn_bó', 'công_ty', 'vad', 'phân_phối', 'hãng', 'navara', 'việt_nam', 'dòng', 'xe', 'phân_phối', 'cũ', 'giai_đoạn', 'dọn', 'kho', 'công_bố', 'hoạt_động', '9', 'có_lẽ', '2021', 'mẫu', 'xe', 'nissan', 'dạm_ngõ', 'thị_trường', 'việt', 'nam', 'hiện', 'thông_tin', 'liệu', 'vad', 'lắp_ráp', 'xe', 'nissan', 'dựa', 'hình_thức', 'nhập_khẩu', 'hệ_thống', 'đại_lý', 'tiếp_quản', 'phân_phối', 'cũ', 'kế_hoạch', 'mở_rộng', 'tham_vọng', 'vad']\n"
     ]
    }
   ],
   "source": [
    "\n",
    "for root, dirs, files in os.walk(urls.RAW_DATA_TEST_PATH):\n",
    "    for file in files:\n",
    "        file_path = os.path.join(urls.RAW_DATA_TEST_PATH, file)\n",
    "        print(file_path)\n",
    "        exam_str = FileReader(file_path).read()\n",
    "        print(exam_str)\n",
    "        nlp = NLP(text=exam_str)\n",
    "        print(nlp.preprocessText(exam_str))\n",
    "\n"
   ]
  },
  {
   "cell_type": "code",
   "execution_count": null,
   "metadata": {},
   "outputs": [],
   "source": []
  }
 ]
}