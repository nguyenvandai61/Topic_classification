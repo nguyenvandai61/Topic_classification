{
 "metadata": {
  "language_info": {
   "codemirror_mode": {
    "name": "ipython",
    "version": 3
   },
   "file_extension": ".py",
   "mimetype": "text/x-python",
   "name": "python",
   "nbconvert_exporter": "python",
   "pygments_lexer": "ipython3",
   "version": 3
  },
  "orig_nbformat": 2
 },
 "nbformat": 4,
 "nbformat_minor": 2,
 "cells": [
  {
   "cell_type": "code",
   "execution_count": null,
   "metadata": {},
   "outputs": [],
   "source": [
    "import matplotlib.pyplot as plt\n",
    "from wordcloud import WordCloud\n",
    "#convert list to string and generate\n",
    "class DataVisualizer(object):\n",
    "    def __init__(self, tokens=None):\n",
    "        self.tokens = tokens\n",
    "    \n",
    "    def get_word_cloud(self, tokens):\n",
    "        unique_string=(\" \").join(tokens)\n",
    "        word_cloud = WordCloud(width = 1000, height = 500).generate(unique_string)\n",
    "        return word_cloud\n",
    "    \n",
    "    def show_image(self, word_cloud):\n",
    "        plt.figure(figsize=(15,8))\n",
    "        plt.imshow(word_cloud)\n",
    "        plt.axis(\"off\")\n",
    "\n",
    "    def save_fig(self, file_name):\n",
    "        plt.savefig(file_name, bbox_inches='tight')\n",
    "        plt.figure(figsize=(15,8))\n",
    "        plt.show()\n",
    "        plt.close()\n",
    "\n",
    "    \n",
    "    def process(self):\n",
    "        # print(self.count_tokens(self.tokens))\n",
    "        print(self.tokens)\n",
    "        self.word_cloud = self.get_word_cloud(self.tokens)\n",
    "        self.show_image(self.word_cloud)"
   ]
  }
 ]
}