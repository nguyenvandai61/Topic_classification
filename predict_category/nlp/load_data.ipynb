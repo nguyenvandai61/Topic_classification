{
 "metadata": {
  "language_info": {
   "codemirror_mode": {
    "name": "ipython",
    "version": 3
   },
   "file_extension": ".py",
   "mimetype": "text/x-python",
   "name": "python",
   "nbconvert_exporter": "python",
   "pygments_lexer": "ipython3",
   "version": "3.8.0-final"
  },
  "orig_nbformat": 2,
  "kernelspec": {
   "name": "python3",
   "display_name": "Python 3.8.0 64-bit ('env')",
   "metadata": {
    "interpreter": {
     "hash": "8d55cdf79215819001478c04454d37af6c62547f8e7d6940d08715a2588f151f"
    }
   }
  }
 },
 "nbformat": 4,
 "nbformat_minor": 2,
 "cells": [
  {
   "cell_type": "code",
   "execution_count": 4,
   "metadata": {},
   "outputs": [
    {
     "output_type": "stream",
     "name": "stdout",
     "text": [
      "[]\n[]\n"
     ]
    }
   ],
   "source": [
    "#import library\n",
    "import numpy as np\n",
    "import pandas as pd\n",
    "from pyvi import ViTokenizer\n",
    "import glob\n",
    "from collections import Counter\n",
    "from string import punctuation\n",
    "#load data\n",
    "paths = glob.glob(\"data/test/*.txt\")\n",
    "print(paths)\n",
    "comments = []\n",
    "for path in paths :\n",
    "  with open(path,encoding=\"utf-8\") as file:\n",
    "      text= file.read()\n",
    "      text_lower = text.lower()\n",
    "      text_token = ViTokenizer.tokenize(text_lower)\n",
    "      print(text_token)\n",
    "      comments.append(text_token)\n",
    "  file.close()\n",
    "print(comments)"
   ]
  },
  {
   "cell_type": "code",
   "execution_count": 9,
   "metadata": {},
   "outputs": [
    {
     "output_type": "stream",
     "name": "stdout",
     "text": [
      "Chào các bạn tôi là Phạm Văn_Toàn đến từ blog Tự học Machine_Learning\n"
     ]
    }
   ],
   "source": [
    "from pyvi import ViTokenizer\n",
    "class NLP(object):\n",
    "    def __init__(self, text = None):\n",
    "        self.text = text\n",
    "        # self.__set_stopwords()\n",
    "    def __set_stopwords(self):\n",
    "        self.stopwords = FileReader(settings.STOP_WORDS).read_stopwords()\n",
    "    def segmentation(self):\n",
    "        return ViTokenizer.tokenize(self.text)\n",
    "\n",
    "temp = u\"Chào các bạn tôi là Phạm Văn Toàn đến từ blog Tự học Machine Learning\"\n",
    "nlp = NLP(text=temp)\n",
    "print(nlp.segmentation())\n"
   ]
  },
  {
   "cell_type": "code",
   "execution_count": null,
   "metadata": {},
   "outputs": [],
   "source": []
  }
 ]
}